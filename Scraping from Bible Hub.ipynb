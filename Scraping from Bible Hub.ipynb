{
 "cells": [
  {
   "cell_type": "code",
   "execution_count": 1,
   "id": "83c4f95e",
   "metadata": {},
   "outputs": [],
   "source": [
    "import requests\n",
    "from bs4 import BeautifulSoup\n",
    "import pandas as pd\n"
   ]
  },
  {
   "cell_type": "code",
   "execution_count": 2,
   "id": "c9f990a3",
   "metadata": {},
   "outputs": [
    {
     "name": "stdout",
     "output_type": "stream",
     "text": [
      "<Response [200]>\n",
      "200\n"
     ]
    }
   ],
   "source": [
    "url = \"https://biblehub.com/kjv/genesis/1.htm\"\n",
    "\n",
    "# Send HTTP request to the URL\n",
    "r= requests.get(url)\n",
    "print(r)\n",
    "print(r.status_code)"
   ]
  },
  {
   "cell_type": "code",
   "execution_count": 3,
   "id": "9d8b259f",
   "metadata": {},
   "outputs": [
    {
     "name": "stdout",
     "output_type": "stream",
     "text": [
      "<!DOCTYPE html PUBLIC \"-//W3C//DTD XHTML 1.0 Transitional//EN\" \"http://www.w3.org/TR/xhtml1/DTD/xhtml1-transitional.dtd\">\n",
      "<html xmlns=\"http://www.w3.org/1999/xhtml\"><head><meta content=\"text/html; charset=utf-8\" http-equiv=\"Content-Type\"/><meta content=\"width=device-width, initial-scale=1\" name=\"viewport\"/><title>Genesis 1 KJV</title><link href=\"/chapnew2.css\" media=\"Screen\" rel=\"stylesheet\" type=\"text/css\"/><link href=\"../spec.css\" media=\"Screen\" rel=\"stylesheet\" type=\"text/css\"/><link href=\"/print.css\" media=\"Print\" rel=\"stylesheet\" type=\"text/css\"/><script src=\"https://scripts.webcontentassessor.com/scripts/8a2459b64f9cac8122fc7f2eac4409c8555fac9383016db59c4c26e3d5b8b157\" type=\"application/javascript\"></script><script src=\"https://qd.admetricspro.com/js/biblehub/biblehub-layout-loader-revcatch.js\"></script><script async=\"\" id=\"HyDgbd_1s\" src=\"https://prebidads.revcatch.com/ads.js\" type=\"text/javascript\"></script><script>(function(w,d,b,s,i){var cts=d.createElement(s);cts.async=true;cts.id='catchscript'; cts.dataset.appid=i;cts.src='https://app.protectsubrev.com/catch_rp.js?cb='+Math.random(); document.head.appendChild(cts); }) (window,document,'head','script','rc-anksrH');</script></head><!-- Google tag (gtag.js) -->\n",
      "<script async=\"\" src=\"https://www.googletagmanager.com/gtag/js?id=G-LR4HSKRP2H\"></script>\n",
      "<script>\n",
      "  window.dataLayer = window.dataLayer || [];\n",
      "  function gtag(){dataLayer.push(arguments);}\n",
      "  gtag('js', new Date());\n",
      "\n",
      "  gtag('config', 'G-LR4HSKRP2H');\n",
      "</script><body><div id=\"fx\"><table border=\"0\" cellpadding=\"0\" cellspacing=\"0\" id=\"fx2\" width=\"100%\"><tr><td><iframe align=\"left\" frameborder=\"0\" height=\"30\" scrolling=\"no\" src=\"../cmenus/genesis/1.htm\" width=\"100%\"></iframe></td></tr></table></div><div id=\"blnk\"></div><div align=\"center\"><table border=\"0\" cellpadding=\"0\" cellspacing=\"0\" class=\"maintable\" width=\"100%\"><tr><td><div id=\"fx5\"><table border=\"0\" cellpadding=\"0\" cellspacing=\"0\" id=\"fx6\" width=\"100%\"><tr><td><iframe frameborder=\"0\" height=\"245\" scrolling=\"no\" src=\"../topmenuchap/genesis/1-1.htm\" width=\"100%\"></iframe></td></tr></table></div></td></tr></table></div><div align=\"center\"><table border=\"0\" cellpadding=\"0\" cellspacing=\"0\" class=\"maintable3\" width=\"100%\"><tr><td><table align=\"center\" border=\"0\" cellpadding=\"0\" cellspacing=\"0\" id=\"announce\" width=\"100%\"><tr><td><div id=\"l1\"><div id=\"breadcrumbs\"><a href=\"http://biblehub.com\">Bible</a> &gt; <a href=\"../\">KJV</a> &gt; Genesis 1</div><div id=\"anc\"><iframe frameborder=\"0\" height=\"27\" scrolling=\"no\" src=\"/anc.htm\" width=\"100%\"></iframe></div><div id=\"anc2\"><table align=\"center\" border=\"0\" cellpadding=\"0\" cellspacing=\"0\" width=\"100%\"><tr><td><iframe frameborder=\"0\" height=\"27\" scrolling=\"no\" src=\"/anc2.htm\" width=\"100%\"></iframe></td></tr></table></div></div></td></tr></table><div id=\"movebox2\"><table align=\"center\" border=\"0\" cellpadding=\"0\" cellspacing=\"0\"><tr><td><div id=\"topheading\"><a href=\"../revelation/22.htm\" title=\"Revelation 22\">◄</a> Genesis 1 <a href=\"../genesis/2.htm\" title=\"Genesis 2\">►</a></div></td></tr></table></div><div align=\"center\" class=\"maintable2\"><table align=\"center\" border=\"0\" cellpadding=\"0\" cellspacing=\"0\"><tr><td><div id=\"leftbox\"><div class=\"padleft\"><div class=\"vheading\"><table width=\"100%\"><tr><td valign=\"top\" width=\"99%\">King James Bible</td><td valign=\"top\" width=\"1%\"><a href=\"/p/kjv/esv/genesis/1.shtml\" style=\"color:#001320\" title=\"Parallel Chapters\"> Par ▾ </a></td></tr></table></div><div class=\"chap\"><a id=\"1\" name=\"1\"></a><p class=\"hdg\">The Beginning<br/></p><p class=\"cross\">(<a href=\"../john/1.htm\">John 1:1-5</a>)</p><p class=\"reg\"><span class=\"reftext\"><a href=\"/genesis/1-1.htm\"><b>1</b></a></span>In the beginning God created the heaven and the earth. \n",
      "<span class=\"reftext\"><a href=\"/genesis/1-2.htm\"><b>2</b></a></span>And the earth was without form, and void; and darkness <i>was</i> upon the face of the deep. And the Spirit of God moved upon the face of the waters.</p>\n",
      "<p class=\"hdg\">The First Day: Light</p><p class=\"reg\"><span class=\"reftext\"><a href=\"/genesis/1-3.htm\"><b>3</b></a></span>And God said, Let there be light: and there was light. \n",
      "<span class=\"reftext\"><a href=\"/genesis/1-4.htm\"><b>4</b></a></span>And God saw the light, that <i>it was</i> good: and God divided the light from the darkness. \n",
      "<span class=\"reftext\"><a href=\"/genesis/1-5.htm\"><b>5</b></a></span>And God called the light Day, and the darkness he called Night. And the evening and the morning were the first day.</p>\n",
      "<p class=\"hdg\">The Second Day: Firmament</p><p class=\"reg\"><span class=\"reftext\"><a href=\"/genesis/1-6.htm\"><b>6</b></a></span>And God said, Let there be a firmament in the midst of the waters, and let it divide the waters from the waters. \n",
      "<span class=\"reftext\"><a href=\"/genesis/1-7.htm\"><b>7</b></a></span>And God made the firmament, and divided the waters which <i>were</i> under the firmament from the waters which <i>were</i> above the firmament: and it was so. \n",
      "<span class=\"reftext\"><a href=\"/genesis/1-8.htm\"><b>8</b></a></span>And God called the firmament Heaven. And the evening and the morning were the second day.</p>\n",
      "<p class=\"hdg\">The Third Day: Dry Ground</p><p class=\"reg\"><span class=\"reftext\"><a href=\"/genesis/1-9.htm\"><b>9</b></a></span>And God said, Let the waters under the heaven be gathered together unto one place, and let the dry <i>land</i> appear: and it was so. \n",
      "<span class=\"reftext\"><a href=\"/genesis/1-10.htm\"><b>10</b></a></span>And God called the dry <i>land</i> Earth; and the gathering together of the waters called he Seas: and God saw that <i>it was</i> good. \n",
      "<span class=\"reftext\"><a href=\"/genesis/1-11.htm\"><b>11</b></a></span>And God said, Let the earth bring forth grass, the herb yielding seed, <i>and</i> the fruit tree yielding fruit after his kind, whose seed <i>is</i> in itself, upon the earth: and it was so. \n",
      "<span class=\"reftext\"><a href=\"/genesis/1-12.htm\"><b>12</b></a></span>And the earth brought forth grass, <i>and</i> herb yielding seed after his kind, and the tree yielding fruit, whose seed <i>was</i> in itself, after his kind: and God saw that <i>it was</i> good. \n",
      "<span class=\"reftext\"><a href=\"/genesis/1-13.htm\"><b>13</b></a></span>And the evening and the morning were the third day.</p>\n",
      "<p class=\"hdg\">The Fourth Day: Sun, Moon, Stars</p><p class=\"reg\"><span class=\"reftext\"><a href=\"/genesis/1-14.htm\"><b>14</b></a></span>And God said, Let there be lights in the firmament of the heaven to divide the day from the night; and let them be for signs, and for seasons, and for days, and years: \n",
      "<span class=\"reftext\"><a href=\"/genesis/1-15.htm\"><b>15</b></a></span>And let them be for lights in the firmament of the heaven to give light upon the earth: and it was so. \n",
      "<span class=\"reftext\"><a href=\"/genesis/1-16.htm\"><b>16</b></a></span>And God made two great lights; the greater light to rule the day, and the lesser light to rule the night: <i>he made</i> the stars also. \n",
      "<span class=\"reftext\"><a href=\"/genesis/1-17.htm\"><b>17</b></a></span>And God set them in the firmament of the heaven to give light upon the earth, \n",
      "<span class=\"reftext\"><a href=\"/genesis/1-18.htm\"><b>18</b></a></span>And to rule over the day and over the night, and to divide the light from the darkness: and God saw that <i>it was</i> good. \n",
      "<span class=\"reftext\"><a href=\"/genesis/1-19.htm\"><b>19</b></a></span>And the evening and the morning were the fourth day.</p>\n",
      "<p class=\"hdg\">The Fifth Day: Fish and Birds</p><p class=\"reg\"><span class=\"reftext\"><a href=\"/genesis/1-20.htm\"><b>20</b></a></span>And God said, Let the waters bring forth abundantly the moving creature that hath life, and fowl <i>that</i> may fly above the earth in the open firmament of heaven. \n",
      "<span class=\"reftext\"><a href=\"/genesis/1-21.htm\"><b>21</b></a></span>And God created great whales, and every living creature that moveth, which the waters brought forth abundantly, after their kind, and every winged fowl after his kind: and God saw that <i>it was</i> good. \n",
      "<span class=\"reftext\"><a href=\"/genesis/1-22.htm\"><b>22</b></a></span>And God blessed them, saying, Be fruitful, and multiply, and fill the waters in the seas, and let fowl multiply in the earth. \n",
      "<span class=\"reftext\"><a href=\"/genesis/1-23.htm\"><b>23</b></a></span>And the evening and the morning were the fifth day.</p>\n",
      "<p class=\"hdg\">The Sixth Day: Creatures on Land</p><p class=\"reg\"><span class=\"reftext\"><a href=\"/genesis/1-24.htm\"><b>24</b></a></span>And God said, Let the earth bring forth the living creature after his kind, cattle, and creeping thing, and beast of the earth after his kind: and it was so. \n",
      "<span class=\"reftext\"><a href=\"/genesis/1-25.htm\"><b>25</b></a></span>And God made the beast of the earth after his kind, and cattle after their kind, and every thing that creepeth upon the earth after his kind: and God saw that <i>it was</i> good.</p>\n",
      "<p class=\"reg\"><span class=\"reftext\"><a href=\"/genesis/1-26.htm\"><b>26</b></a></span>And God said, Let us make man in our image, after our likeness: and let them have dominion over the fish of the sea, and over the fowl of the air, and over the cattle, and over all the earth, and over every creeping thing that creepeth upon the earth. \n",
      "<span class=\"reftext\"><a href=\"/genesis/1-27.htm\"><b>27</b></a></span>So God created man in his <i>own</i> image, in the image of God created he him; male and female created he them. \n",
      "<span class=\"reftext\"><a href=\"/genesis/1-28.htm\"><b>28</b></a></span>And God blessed them, and God said unto them, Be fruitful, and multiply, and replenish the earth, and subdue it: and have dominion over the fish of the sea, and over the fowl of the air, and over every living thing that moveth upon the earth. \n",
      "<span class=\"reftext\"><a href=\"/genesis/1-29.htm\"><b>29</b></a></span>And God said, Behold, I have given you every herb bearing seed, which <i>is</i> upon the face of all the earth, and every tree, in the which <i>is</i> the fruit of a tree yielding seed; to you it shall be for meat. \n",
      "<span class=\"reftext\"><a href=\"/genesis/1-30.htm\"><b>30</b></a></span>And to every beast of the earth, and to every fowl of the air, and to every thing that creepeth upon the earth, wherein <i>there is</i> life, <i>I have given</i> every green herb for meat: and it was so. \n",
      "<span class=\"reftext\"><a href=\"/genesis/1-31.htm\"><b>31</b></a></span>And God saw every thing that he had made, and, behold, <i>it was</i> very good. And the evening and the morning were the sixth day.</p></div></div><div id=\"botbox\"><div class=\"padbot\"><div align=\"center\">King James Bible<br/><br/>Text courtesy of <a href=\"http://www.bibleprotector.com/\"> BibleProtector.com</a><br/><br/>Section Headings Courtesy <a href=\"http://intbible.com/\">INT Bible</a><br/>© 2012, Used by Permission<span class=\"p\"><br/><br/></span><a href=\"/\">Bible Hub</a></div></div></div></div></td></tr></table></div><div id=\"left\"><a href=\"../revelation/22.htm\" onmouseout='lft.src=\"/left.png\"' onmouseover='lft.src=\"/leftgif.png\"' title=\"Revelation 22\"><img alt=\"Revelation 22\" border=\"0\" name=\"lft\" src=\"/left.png\"/></a></div><div id=\"right\"><a href=\"../genesis/2.htm\" onmouseout='rght.src=\"/right.png\"' onmouseover='rght.src=\"/rightgif.png\"' title=\"Genesis 2\"><img alt=\"Genesis 2\" border=\"0\" name=\"rght\" src=\"/right.png\"/></a></div><div id=\"botleft\"><a href=\"#\" onmouseout='botleft.src=\"/botleft.png\"' onmouseover='botleft.src=\"/botleftgif.png\"' title=\"Top of Page\"><img alt=\"Top of Page\" border=\"0\" name=\"botleft\" src=\"/botleft.png\"/></a></div><div id=\"botright\"><a href=\"#\" onmouseout='botright.src=\"/botright.png\"' onmouseover='botright.src=\"/botrightgif.png\"' title=\"Top of Page\"><img alt=\"Top of Page\" border=\"0\" name=\"botright\" src=\"/botright.png\"/></a></div></td></tr></table></div><div id=\"rightbox\"><div class=\"padright\"><div id=\"pic\"><iframe frameborder=\"0\" height=\"860\" scrolling=\"no\" src=\"//biblescan.com/mpc/genesis/1-1.htm\" width=\"100%\"></iframe></div></div></div><div id=\"rightbox4\"><div class=\"padright2\"><div id=\"spons1\"><table border=\"0\" cellpadding=\"0\" cellspacing=\"0\" width=\"100%\"><tr><td class=\"sp1\"><iframe frameborder=\"0\" height=\"860\" scrolling=\"no\" src=\"../sidemenu.htm\" width=\"122\"></iframe></td></tr></table></div></div></div><div id=\"bot\"><div align=\"center\" style=\"background-color:#F2FAFF\"><br/><br/><div align=\"center\"><div align=\"center\"><script id=\"3d27ed63fc4348d5b062c4527ae09445\">\n",
      "  (new Image()).src = 'https://capi.connatix.com/tr/si?token=51ce25d5-1a8c-424a-8695-4bd48c750f35&cid=3a9f82d0-4344-4f8d-ac0c-e1a0eb43a405';\n",
      "</script>\n",
      "<script id=\"b817b7107f1d4a7997da1b3c33457e03\">\n",
      "  (new Image()).src = 'https://capi.connatix.com/tr/si?token=cb0edd8b-b416-47eb-8c6d-3cc96561f7e8&cid=3a9f82d0-4344-4f8d-ac0c-e1a0eb43a405';\n",
      "</script><br/><br/>\n",
      "<!-- /1078254/BH-728x90-ATF -->\n",
      "<div id=\"div-gpt-ad-1529103594582-2\">\n",
      "</div><br/><br/>\n",
      "<!-- /1078254/BH-300x250-ATF -->\n",
      "<div id=\"div-gpt-ad-1529103594582-0\" style=\"max-width: 300px;\">\n",
      "</div><br/><br/>\n",
      "<!-- /1078254/BH-728x90-BTF -->\n",
      "<div id=\"div-gpt-ad-1529103594582-3\">\n",
      "</div><br/><br/>\n",
      "<!-- /1078254/BH-300x250-BTF -->\n",
      "<div id=\"div-gpt-ad-1529103594582-1\" style=\"max-width: 300px;\">\n",
      "</div><br/><br/>\n",
      "<!-- /1078254/BH-728x90-BTF2 -->\n",
      "<div align=\"center\" id=\"div-gpt-ad-1531425649696-0\">\n",
      "</div><br/><br/>\n",
      "<ins class=\"adsbygoogle\" data-ad-client=\"ca-pub-3753401421161123\" data-ad-slot=\"3592799687\" style=\"display:inline-block;width:200px;height:200px\"></ins>\n",
      "<script>\n",
      "     (adsbygoogle = window.adsbygoogle || []).push({});\n",
      "</script></div></div><br/><br/>\n",
      "</div><iframe frameborder=\"0\" height=\"1500\" scrolling=\"no\" src=\"//biblehu.com/botmenubhnm2.htm\" width=\"100%\"></iframe><div align=\"center\"><span class=\"p\"><br/><br/><br/></span></div></div></body></html>\n"
     ]
    }
   ],
   "source": [
    "soup = BeautifulSoup(r.text, 'html')\n",
    "print(soup)"
   ]
  },
  {
   "cell_type": "code",
   "execution_count": 4,
   "id": "83cf47c3",
   "metadata": {},
   "outputs": [
    {
     "name": "stdout",
     "output_type": "stream",
     "text": [
      "Genesis 1\n"
     ]
    }
   ],
   "source": [
    "# Extract Book and Chapter\n",
    "book = soup.find('div', id= 'topheading')\n",
    "heading= book.text.replace(\"◄\", \"\").replace(\"►\", \"\").strip()\n",
    "print(heading)\n",
    "\n"
   ]
  },
  {
   "cell_type": "code",
   "execution_count": 5,
   "id": "6f59e9cc",
   "metadata": {},
   "outputs": [],
   "source": [
    "# Find all tables in the page\n",
    "version_div = soup.find('div', class_ = 'vheading')\n",
    "version_div_td = version_div.find('td')"
   ]
  },
  {
   "cell_type": "code",
   "execution_count": 6,
   "id": "414c9543",
   "metadata": {},
   "outputs": [
    {
     "name": "stdout",
     "output_type": "stream",
     "text": [
      "King James Bible\n"
     ]
    }
   ],
   "source": [
    "version = version_div_td.text.strip()\n",
    "print(version)"
   ]
  },
  {
   "cell_type": "code",
   "execution_count": 7,
   "id": "dd12e2bc",
   "metadata": {},
   "outputs": [],
   "source": [
    "# Find the container with the full chapter content\n",
    "chapter_div = soup.find(\"div\", class_=\"chap\")"
   ]
  },
  {
   "cell_type": "code",
   "execution_count": 8,
   "id": "60cdd702",
   "metadata": {},
   "outputs": [
    {
     "name": "stdout",
     "output_type": "stream",
     "text": [
      "\n",
      "➤ The Beginning\n",
      "1 In the beginning God created the heaven and the earth. 2 And the earth was without form, and void; and darkness was upon the face of the deep. And the Spirit of God moved upon the face of the waters.\n",
      "\n",
      "➤ The First Day: Light\n",
      "3 And God said, Let there be light: and there was light. 4 And God saw the light, that it was good: and God divided the light from the darkness. 5 And God called the light Day, and the darkness he called Night. And the evening and the morning were the first day.\n",
      "\n",
      "➤ The Second Day: Firmament\n",
      "6 And God said, Let there be a firmament in the midst of the waters, and let it divide the waters from the waters. 7 And God made the firmament, and divided the waters which were under the firmament from the waters which were above the firmament: and it was so. 8 And God called the firmament Heaven. And the evening and the morning were the second day.\n",
      "\n",
      "➤ The Third Day: Dry Ground\n",
      "9 And God said, Let the waters under the heaven be gathered together unto one place, and let the dry land appear: and it was so. 10 And God called the dry land Earth; and the gathering together of the waters called he Seas: and God saw that it was good. 11 And God said, Let the earth bring forth grass, the herb yielding seed, and the fruit tree yielding fruit after his kind, whose seed is in itself, upon the earth: and it was so. 12 And the earth brought forth grass, and herb yielding seed after his kind, and the tree yielding fruit, whose seed was in itself, after his kind: and God saw that it was good. 13 And the evening and the morning were the third day.\n",
      "\n",
      "➤ The Fourth Day: Sun, Moon, Stars\n",
      "14 And God said, Let there be lights in the firmament of the heaven to divide the day from the night; and let them be for signs, and for seasons, and for days, and years: 15 And let them be for lights in the firmament of the heaven to give light upon the earth: and it was so. 16 And God made two great lights; the greater light to rule the day, and the lesser light to rule the night: he made the stars also. 17 And God set them in the firmament of the heaven to give light upon the earth, 18 And to rule over the day and over the night, and to divide the light from the darkness: and God saw that it was good. 19 And the evening and the morning were the fourth day.\n",
      "\n",
      "➤ The Fifth Day: Fish and Birds\n",
      "20 And God said, Let the waters bring forth abundantly the moving creature that hath life, and fowl that may fly above the earth in the open firmament of heaven. 21 And God created great whales, and every living creature that moveth, which the waters brought forth abundantly, after their kind, and every winged fowl after his kind: and God saw that it was good. 22 And God blessed them, saying, Be fruitful, and multiply, and fill the waters in the seas, and let fowl multiply in the earth. 23 And the evening and the morning were the fifth day.\n",
      "\n",
      "➤ The Sixth Day: Creatures on Land\n",
      "24 And God said, Let the earth bring forth the living creature after his kind, cattle, and creeping thing, and beast of the earth after his kind: and it was so. 25 And God made the beast of the earth after his kind, and cattle after their kind, and every thing that creepeth upon the earth after his kind: and God saw that it was good.\n",
      "26 And God said, Let us make man in our image, after our likeness: and let them have dominion over the fish of the sea, and over the fowl of the air, and over the cattle, and over all the earth, and over every creeping thing that creepeth upon the earth. 27 So God created man in his own image, in the image of God created he him; male and female created he them. 28 And God blessed them, and God said unto them, Be fruitful, and multiply, and replenish the earth, and subdue it: and have dominion over the fish of the sea, and over the fowl of the air, and over every living thing that moveth upon the earth. 29 And God said, Behold, I have given you every herb bearing seed, which is upon the face of all the earth, and every tree, in the which is the fruit of a tree yielding seed; to you it shall be for meat. 30 And to every beast of the earth, and to every fowl of the air, and to every thing that creepeth upon the earth, wherein there is life, I have given every green herb for meat: and it was so. 31 And God saw every thing that he had made, and, behold, it was very good. And the evening and the morning were the sixth day.\n"
     ]
    }
   ],
   "source": [
    "# Loop through the elements inside the chapter\n",
    "for element in chapter_div.find_all([\"p\"]):\n",
    "    # Check if it's a heading\n",
    "    if \"hdg\" in element.get(\"class\", []):\n",
    "        heading = element.get_text(strip=True)\n",
    "        print(f\"\\n➤ {heading}\")  \n",
    "\n",
    "    # Check if it's a verse\n",
    "    elif \"reg\" in element.get(\"class\", []):\n",
    "        verse = element.get_text(separator=\" \", strip=True)\n",
    "        print(verse)"
   ]
  },
  {
   "cell_type": "code",
   "execution_count": 9,
   "id": "778d0e08",
   "metadata": {},
   "outputs": [
    {
     "name": "stdout",
     "output_type": "stream",
     "text": [
      "Requirement already satisfied: python-docx in c:\\users\\dell\\anaconda3\\lib\\site-packages (1.1.2)\n",
      "Requirement already satisfied: lxml>=3.1.0 in c:\\users\\dell\\anaconda3\\lib\\site-packages (from python-docx) (5.4.0)\n",
      "Requirement already satisfied: typing-extensions>=4.9.0 in c:\\users\\dell\\anaconda3\\lib\\site-packages (from python-docx) (4.11.0)\n",
      "Note: you may need to restart the kernel to use updated packages.\n",
      "✅ Word document saved as 'Genesis_1_KJV.docx'\n"
     ]
    }
   ],
   "source": [
    "%pip install python-docx\n",
    "\n",
    "from docx import Document\n",
    "\n",
    "# Step 2: Create a Word document\n",
    "doc = Document()\n",
    "doc.add_heading(\"Genesis 1 - King James Bible\", level=1)\n",
    "\n",
    "# Step 3: Get the content div\n",
    "chapter_div = soup.find(\"div\", class_=\"chap\")\n",
    "\n",
    "# Step 4: Loop through and add content to Word\n",
    "for element in chapter_div.find_all(\"p\"):\n",
    "    classes = element.get(\"class\", [])\n",
    "    \n",
    "    # Heading\n",
    "    if \"hdg\" in classes:\n",
    "        heading = element.get_text(strip=True)\n",
    "        doc.add_heading(heading, level=2)\n",
    "\n",
    "    # Verses\n",
    "    elif \"reg\" in classes:\n",
    "        verse = element.get_text(separator=\" \", strip=True)\n",
    "        doc.add_paragraph(verse)\n",
    "\n",
    "# Step 5: Save the document\n",
    "doc.save(\"Genesis_1_KJV.docx\")\n",
    "print(\"✅ Word document saved as 'Genesis_1_KJV.docx'\")\n"
   ]
  }
 ],
 "metadata": {
  "kernelspec": {
   "display_name": "base",
   "language": "python",
   "name": "python3"
  },
  "language_info": {
   "codemirror_mode": {
    "name": "ipython",
    "version": 3
   },
   "file_extension": ".py",
   "mimetype": "text/x-python",
   "name": "python",
   "nbconvert_exporter": "python",
   "pygments_lexer": "ipython3",
   "version": "3.12.7"
  }
 },
 "nbformat": 4,
 "nbformat_minor": 5
}
