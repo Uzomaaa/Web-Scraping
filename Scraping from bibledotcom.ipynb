{
 "cells": [
  {
   "cell_type": "code",
   "execution_count": 33,
   "id": "e54e3afd",
   "metadata": {},
   "outputs": [],
   "source": [
    "import requests\n",
    "from bs4 import BeautifulSoup\n",
    "import time  #Allows us to pause between downloads to avoid stressing the website.\n",
    "import pandas as pd"
   ]
  },
  {
   "cell_type": "code",
   "execution_count": 34,
   "id": "aa7a1a60",
   "metadata": {},
   "outputs": [],
   "source": [
    "#Define the Books and Chapter Counts\n",
    "\n",
    "book_chapters = { \"gen\": 5 }      # a dictionary mapping Bible books (like \"gen\") to number of chapters.\n",
    "versions = { \"GNBDC\": \"416\" }     # a dictionary mapping Bible version names (like \"GNBDC\") to their version IDs on Bible.com."
   ]
  },
  {
   "cell_type": "code",
   "execution_count": 35,
   "id": "1573987b",
   "metadata": {},
   "outputs": [
    {
     "name": "stdout",
     "output_type": "stream",
     "text": [
      "Scraping: https://www.bible.com/bible/416/gen.1 (GNBDC)\n",
      "Scraping: https://www.bible.com/bible/416/gen.2 (GNBDC)\n",
      "Scraping: https://www.bible.com/bible/416/gen.3 (GNBDC)\n",
      "Scraping: https://www.bible.com/bible/416/gen.4 (GNBDC)\n",
      "Scraping: https://www.bible.com/bible/416/gen.5 (GNBDC)\n",
      "GNBDC Bible verses have been saved to 'Genesis GNBDC.csv'.\n"
     ]
    }
   ],
   "source": [
    "# Define the Function\n",
    "def scrape_bible_csv(book_chapters, versions):\n",
    "\n",
    "    base_url = \"https://www.bible.com/bible/\"  #This is the base URL of the Bible.com site. You’ll add version ID, book, and chapter to this.\n",
    "    \n",
    "    all_verses = []  #This empty list will store all the scraped verses in a structured format (like a dictionary for each verse).\n",
    "\n",
    "# The Loop Engine\n",
    "    for version, version_id in versions.items(): #Loop through each Bible version and its corresponding ID.\n",
    "        for book, max_chapter in book_chapters.items():  #Loop through each book (like \"gen\") and how many chapters it has.\n",
    "            for chapter in range(1, max_chapter + 1):    #Loop through chapter numbers from 1 to max_chapter.\n",
    "# Fetch the Page\n",
    "                try: #Start a try block to handle any errors (like network issues).\n",
    "\n",
    "                    url = f\"{base_url}{version_id}/{book}.{chapter}\" #Build the full URL, e.g., https://www.bible.com/bible/416/gen.1\n",
    "                    print(f\"Scraping: {url} ({version})\") #Print the current chapter being scraped.\n",
    "\n",
    "                    response = requests.get(url) #Use requests to send an HTTP GET request to the Bible page.\n",
    "\n",
    "                    # If the request fails (not status code 200), skip this chapter and continue.\n",
    "                    if response.status_code != 200:\n",
    "                        print(f\"Failed to retrieve {book} {chapter} ({version}). Skipping...\")\n",
    "                        continue\n",
    "\n",
    "                    soup = BeautifulSoup(response.content, 'html.parser') #Parse the HTML content using BeautifulSoup, which lets you search and extract content from the page.\n",
    "                    verses = soup.find_all('span', class_=\"ChapterContent_verse__57FIw\") #Find all HTML <span> tags where the class is ChapterContent_verse__57FIw. Each of these should contain one verse.\n",
    "# Extract Each Verse\n",
    "                 #If no verses were found, print a message and skip the chapter.\n",
    "                    if not verses:\n",
    "                        print(f\"No verses found for {book} {chapter} ({version}). Skipping...\")\n",
    "                        continue\n",
    "\n",
    "                    for verse in verses:  #Loop through each verse block found.\n",
    "                        verse_num_tag = verse.find('span', class_='ChapterContent_label__R2PLt')  #extracts the verse number (e.g., \"1\").\n",
    "                        verse_text_tag = verse.find('span', class_='ChapterContent_content__RrUqA') #extracts the actual verse text.\n",
    "\n",
    "                        # Clean the extracted text, or use fallback values (\"?\" or \"\") if something’s missing.\n",
    "                        verse_num = verse_num_tag.text.strip() if verse_num_tag else \"?\"\n",
    "                        verse_text = verse_text_tag.text.strip() if verse_text_tag else \"\"\n",
    "\n",
    "                        # Store the verse as a dictionary in all_verses:\n",
    "\n",
    "                       # Example: { \"Book\": \"GEN\", \"Chapter\": 1, \"Verse\": \"1\", \"Text\": \"In the beginning...\", \"Version\": \"GNBDC\" }\n",
    "\n",
    "                        if verse_num and verse_text:\n",
    "                            all_verses.append({\n",
    "                                \"Book\": book.upper(),\n",
    "                                \"Chapter\": chapter,\n",
    "                                \"Verse\": verse_num,\n",
    "                                \"Text\": verse_text,\n",
    "                                \"Version\": version\n",
    "                            })\n",
    "\n",
    "                    time.sleep(1)  #Pause for 1 second before scraping the next chapter (helps avoid getting blocked by the site).\n",
    "\n",
    "# Final Save and Error Handling\n",
    "                except Exception as e:\n",
    "                           print(f\"Error processing {book} {chapter} ({version}): {e}. Skipping...\")\n",
    "\n",
    "    df = pd.DataFrame(all_verses)\n",
    "    df.to_csv('Genesis GNBDC.csv', index=False, encoding='utf-8-sig')\n",
    "    print(\"GNBDC Bible verses have been saved to 'Genesis GNBDC.csv'.\")\n",
    "\n",
    "# Call the function\n",
    "scrape_bible_csv(book_chapters, versions)\n"
   ]
  }
 ],
 "metadata": {
  "kernelspec": {
   "display_name": "base",
   "language": "python",
   "name": "python3"
  },
  "language_info": {
   "codemirror_mode": {
    "name": "ipython",
    "version": 3
   },
   "file_extension": ".py",
   "mimetype": "text/x-python",
   "name": "python",
   "nbconvert_exporter": "python",
   "pygments_lexer": "ipython3",
   "version": "3.12.7"
  }
 },
 "nbformat": 4,
 "nbformat_minor": 5
}
